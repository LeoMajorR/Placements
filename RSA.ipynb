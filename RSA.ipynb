{
 "cells": [
  {
   "cell_type": "code",
   "execution_count": 6,
   "metadata": {},
   "outputs": [],
   "source": [
    "import random\n",
    "import math"
   ]
  },
  {
   "attachments": {},
   "cell_type": "markdown",
   "metadata": {},
   "source": [
    "# RSA Algorithm (Rivest-Shamir-Adleman)\n",
    "\n",
    "1. [Introduction](#Introduction)\n",
    "2. [RSA Algorithm](#RSA-Algorithm)\n",
    "3. [Implementation](#Implementation)"
   ]
  },
  {
   "attachments": {},
   "cell_type": "markdown",
   "metadata": {},
   "source": [
    "# Introduction\n",
    "\n",
    "RSA is used to encrypt and digitally sign messages, it involves the generation of two large prime numbers and performing a series of mathematical operations to derive the public and private key. The public key is used to encrypt the message, while the private key is used to decrypt it. The security of RSA is based on the mathematical difficulty of factoring large composite numbers, making it a widely used and secure method for transmitting sensitive information."
   ]
  },
  {
   "attachments": {},
   "cell_type": "markdown",
   "metadata": {},
   "source": [
    "# RSA-Algorithm\n",
    "\n",
    "1. Choose two large prime numbers, p and q. Compute n by the equation n = p * q.\n",
    "2. Compute φ(n) = (p-1) * (q-1).\n",
    "3. Choose an integer e, 1 < e < φ(n), such that gcd(e, φ(n)) = 1; i.e., e and φ(n) are co-prime.\n",
    "4. Determine d as d ≡ e-1 (mod φ(n)); i.e., d is the multiplicative inverse of e (modulo φ(n)).\n",
    "5. The public key is (e, n) and the private key is (d, n)."
   ]
  },
  {
   "attachments": {},
   "cell_type": "markdown",
   "metadata": {},
   "source": [
    "# Implementation"
   ]
  },
  {
   "cell_type": "code",
   "execution_count": 7,
   "metadata": {},
   "outputs": [],
   "source": [
    "def isPrime(n):\n",
    "    \"\"\"\n",
    "    Check if a number is prime\n",
    "    \"\"\"\n",
    "    if n == 2:\n",
    "        return True\n",
    "    if n % 2 == 0 or n <= 1:\n",
    "        return False\n",
    "\n",
    "    sqr = int(math.sqrt(n)) + 1\n",
    "\n",
    "    for divisor in range(3, sqr, 2):\n",
    "        if n % divisor == 0:\n",
    "            return False\n",
    "    return True\n",
    "\n",
    "def generatePrime(n):\n",
    "    \"\"\"\n",
    "    Generate a prime number of n bits\n",
    "    \"\"\"\n",
    "    while True:\n",
    "        p = random.getrandbits(n)\n",
    "        if isPrime(p):\n",
    "            return p"
   ]
  },
  {
   "cell_type": "code",
   "execution_count": 8,
   "metadata": {},
   "outputs": [
    {
     "name": "stdout",
     "output_type": "stream",
     "text": [
      "Original message:  HELLO WORLD\n",
      "Encoded message:  0704111114262214171103\n"
     ]
    }
   ],
   "source": [
    "# input string from user\n",
    "message = input(\"Enter a message: \")\n",
    "# convert string to uppercase\n",
    "message = message.upper()\n",
    "\n",
    "map = {'A':'00', 'B':'01', 'C':'02', 'D':'03', 'E':'04', 'F':'05', 'G':'06', 'H':'07', 'I':'08', 'J':'09', 'K':'10', 'L':'11', 'M':'12', 'N':'13', 'O':'14', 'P':'15', 'Q':'16', 'R':'17', 'S':'18', 'T':'19', 'U':'20', 'V':'21', 'W':'22', 'X':'23', 'Y':'24', 'Z':'25', ' ':'26'}\n",
    "encoded_message = \"\"\n",
    "for i in message:\n",
    "    encoded_message += map[i]\n",
    "\n",
    "\n",
    "print(\"Original message: \", message)\n",
    "print(\"Encoded message: \", encoded_message)"
   ]
  },
  {
   "cell_type": "code",
   "execution_count": 14,
   "metadata": {},
   "outputs": [
    {
     "name": "stdout",
     "output_type": "stream",
     "text": [
      "Random Primes:  122874569 4127343809\n",
      "Public Key n = 507145591645693321 and e = 23703444726231101\n",
      "Private Key d = 90458178405229333\n"
     ]
    }
   ],
   "source": [
    "p = generatePrime(32)\n",
    "q = generatePrime(32)\n",
    "n = p * q\n",
    "phi = (p - 1) * (q - 1)\n",
    "\n",
    "# choose e such that 1 < e < phi and gcd(e, phi) = 1\n",
    "e = random.randrange(1, phi)\n",
    "g = math.gcd(e, phi)\n",
    "while g != 1:\n",
    "    e = random.randrange(1, phi)\n",
    "    g = math.gcd(e, phi)\n",
    "\n",
    "# choose d such that d * e = 1 mod phi\n",
    "d = pow(e, -1, phi)\n",
    "\n",
    "print(\"Random Primes: \", p, q)\n",
    "print(\"Public Key n = {0} and e = {1}\".format(n, e))\n",
    "print(\"Private Key d = {0}\".format(d))"
   ]
  },
  {
   "cell_type": "code",
   "execution_count": 16,
   "metadata": {},
   "outputs": [],
   "source": [
    "def encrypt(msg):\n",
    "    \"\"\"\n",
    "    Encrypt the message using public key\n",
    "    \"\"\"\n",
    "    cipher = []\n",
    "    for i in msg:\n",
    "        cipher.append(pow(int(i), e, n))\n",
    "    return cipher\n",
    "\n",
    "def decrypt(cipher):\n",
    "    \"\"\"\n",
    "    Decrypt the message using private key\n",
    "    \"\"\"\n",
    "    msg = []\n",
    "    for i in cipher:\n",
    "        msg.append(pow(i, d, n))\n",
    "    return msg"
   ]
  },
  {
   "cell_type": "code",
   "execution_count": 23,
   "metadata": {},
   "outputs": [
    {
     "name": "stdout",
     "output_type": "stream",
     "text": [
      "Encrypted message:  [0, 270140941942413743, 0, 149540275750409461, 1, 1, 1, 1, 1, 149540275750409461, 444267041106429014, 320064312367764318, 444267041106429014, 444267041106429014, 1, 149540275750409461, 1, 270140941942413743, 1, 1, 0, 200258519732180684]\n",
      "Decrypted message:  [0, 7, 0, 4, 1, 1, 1, 1, 1, 4, 2, 6, 2, 2, 1, 4, 1, 7, 1, 1, 0, 3]\n",
      "Original message:  HELLO WORLD\n"
     ]
    }
   ],
   "source": [
    "# encrypt the message\n",
    "encrypted_msg = encrypt(encoded_message)\n",
    "print(\"Encrypted message: \", encrypted_msg)\n",
    "\n",
    "# decrypt the message\n",
    "decrypted_msg = decrypt(encrypted_msg)\n",
    "print(\"Decrypted message: \", decrypted_msg)\n",
    "\n",
    "original_msg = \"\"\n",
    "\n",
    "for i in range(0, len(decrypted_msg), 2):\n",
    "    temp = str(decrypted_msg[i]) + str(decrypted_msg[i+1])\n",
    "    for key, value in map.items():\n",
    "        if value == temp:\n",
    "            original_msg += key\n",
    "            \n",
    "print(\"Original message: \", original_msg)\n",
    "\n"
   ]
  }
 ],
 "metadata": {
  "kernelspec": {
   "display_name": "Python 3",
   "language": "python",
   "name": "python3"
  },
  "language_info": {
   "codemirror_mode": {
    "name": "ipython",
    "version": 3
   },
   "file_extension": ".py",
   "mimetype": "text/x-python",
   "name": "python",
   "nbconvert_exporter": "python",
   "pygments_lexer": "ipython3",
   "version": "3.10.4"
  },
  "orig_nbformat": 4,
  "vscode": {
   "interpreter": {
    "hash": "26de051ba29f2982a8de78e945f0abaf191376122a1563185a90213a26c5da77"
   }
  }
 },
 "nbformat": 4,
 "nbformat_minor": 2
}
